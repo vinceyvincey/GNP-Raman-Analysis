{
 "cells": [
  {
   "cell_type": "markdown",
   "metadata": {},
   "source": [
    " # Plotting ML Outputs for Paper"
   ]
  },
  {
   "cell_type": "code",
   "execution_count": 1,
   "metadata": {},
   "outputs": [],
   "source": [
    "from pathlib import Path\n",
    "import pandas as pd\n",
    "import numpy as np\n",
    "import matplotlib.pyplot as plt\n",
    "import seaborn as sns\n",
    "import mlflow\n",
    "from sklearn.metrics import accuracy_score, f1_score, confusion_matrix, ConfusionMatrixDisplay, roc_curve, RocCurveDisplay,precision_recall_curve,PrecisionRecallDisplay"
   ]
  },
  {
   "cell_type": "code",
   "execution_count": 10,
   "metadata": {},
   "outputs": [],
   "source": [
    "def combine_data(df,n=250,r=0):\n",
    "    df_5 = df.loc[(df['material']=='PG5') ].sample(n,random_state=r)\n",
    "    df_10 = df.loc[(df['material']=='PG10') ].sample(n,random_state=r)\n",
    "    df_20 = df.loc[(df['material']=='PG20')].sample(n,random_state=r)\n",
    "    df_in = pd.concat([df_5,df_10,df_20])\n",
    "    a = ['PG5']  * n\n",
    "    b = ['PG10'] * n\n",
    "    c = ['PG20'] * n\n",
    "    true_values = a + b + c\n",
    "\n",
    "    df_in = df_in[[str(x) for x in np.arange(0,1900)]]\n",
    "\n",
    "    df_in.reset_index(inplace=True,drop=True)\n",
    "\n",
    "    return df_in,true_values\n",
    "\n",
    "def prepare_results(loaded_model,df_in,true_values):\n",
    "    features = list(str(int(a)) for a in np.concatenate([np.linspace(0,600,601),np.linspace(1200,1899,700)]))\n",
    "    predictions = loaded_model.predict(df_in.loc[:,features])\n",
    "    predictions.columns = ['PG10','PG20','PG5']\n",
    "    predictions_arg = predictions.idxmax(axis='columns')\n",
    "\n",
    "    results = pd.DataFrame({\n",
    "        'predicted':predictions_arg, \n",
    "        'actual':true_values, \n",
    "        'confidence':predictions.max(axis=1), \n",
    "        'PG20_conf':predictions['PG20'],\n",
    "        'PG10_conf':predictions['PG10'],\n",
    "        'PG5_conf':predictions['PG5']})\n",
    "\n",
    "    results['correct_prediction']=False\n",
    "    results.loc[results['actual']==results['predicted'],'correct_prediction']=True\n",
    "\n",
    "    return results\n",
    "\n",
    "def con_mat_plot(data_for_plot,target='predicted'):\n",
    "\n",
    "    acc_score = accuracy_score(data_for_plot['actual'],data_for_plot[target])\n",
    "    print(f'accuracy: {acc_score:.2f}')\n",
    "    cm = confusion_matrix(data_for_plot['actual'], data_for_plot[target],normalize='true', labels = ['PG5','PG10','PG20'])\n",
    "\n",
    "    fig, ax = plt.subplots(\n",
    "        figsize = (5,4),dpi=75\n",
    "    )\n",
    "\n",
    "    sns.heatmap(\n",
    "        data = cm*100,\n",
    "        vmin=0, vmax=100,\n",
    "        annot=True, fmt=\".0f\",\n",
    "        xticklabels=['PG5','PG10','PG20'],\n",
    "        yticklabels=['PG5','PG10','PG20'],\n",
    "        cmap='Blues',\n",
    "        cbar_kws={'label': 'Proportion (%)'}\n",
    "        )\n",
    "\n",
    "    plt.ylabel('True Label')\n",
    "    plt.xlabel('Predicted Label')\n",
    "    plt.title('(b)',fontweight='bold')\n",
    "    plt.tight_layout()\n",
    "    plt.savefig('figures/Figure 8(b).png',dpi=300)\n",
    "\n",
    "    plt.show()"
   ]
  },
  {
   "cell_type": "markdown",
   "metadata": {},
   "source": [
    "## Import Trained Model"
   ]
  },
  {
   "cell_type": "code",
   "execution_count": 3,
   "metadata": {},
   "outputs": [
    {
     "name": "stderr",
     "output_type": "stream",
     "text": [
      "/Users/user/opt/anaconda3/envs/py380/lib/python3.8/site-packages/keras/backend.py:450: UserWarning: `tf.keras.backend.set_learning_phase` is deprecated and will be removed after 2020-10-11. To update it, simply pass a True/False value to the `training` argument of the `__call__` method of your layer or model.\n",
      "  warnings.warn('`tf.keras.backend.set_learning_phase` is deprecated and '\n"
     ]
    }
   ],
   "source": [
    "model_path_reordered = Path('data/output/trained_model')\n",
    "loaded_model = mlflow.pyfunc.load_model(model_path_reordered.as_posix())"
   ]
  },
  {
   "cell_type": "markdown",
   "metadata": {},
   "source": [
    "### Inter Batch"
   ]
  },
  {
   "cell_type": "code",
   "execution_count": 11,
   "metadata": {},
   "outputs": [
    {
     "name": "stdout",
     "output_type": "stream",
     "text": [
      "accuracy: 0.69\n"
     ]
    },
    {
     "data": {
      "image/png": "[encoded data removed]",
      "text/plain": [
       "<Figure size 375x300 with 2 Axes>"
      ]
     },
     "metadata": {
      "needs_background": "light"
     },
     "output_type": "display_data"
    }
   ],
   "source": [
    "file = Path.cwd().joinpath('data','input','puregraph_size_comparison_Y.csv')\n",
    "df_inter = pd.read_csv(file)\n",
    "\n",
    "df_inter_in,true_values = combine_data(df_inter,250,88)\n",
    "results = prepare_results(loaded_model,df_inter_in,true_values)\n",
    "con_mat_plot(results)"
   ]
  },
  {
   "cell_type": "code",
   "execution_count": null,
   "metadata": {},
   "outputs": [],
   "source": []
  }
 ],
 "metadata": {
  "kernelspec": {
   "display_name": "Python 3.8.13 ('py380')",
   "language": "python",
   "name": "python3"
  },
  "language_info": {
   "codemirror_mode": {
    "name": "ipython",
    "version": 3
   },
   "file_extension": ".py",
   "mimetype": "text/x-python",
   "name": "python",
   "nbconvert_exporter": "python",
   "pygments_lexer": "ipython3",
   "version": "3.8.13"
  },
  "orig_nbformat": 4,
  "vscode": {
   "interpreter": {
    "hash": "bc1a0c2fd4df46d760c85ae807fd047be621751cf23fb0504691f571b5da056d"
   }
  }
 },
 "nbformat": 4,
 "nbformat_minor": 2
}
