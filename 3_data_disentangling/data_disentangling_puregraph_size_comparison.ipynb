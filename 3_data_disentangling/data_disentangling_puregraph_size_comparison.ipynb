{
 "cells": [
  {
   "cell_type": "markdown",
   "metadata": {},
   "source": [
    "# Data Disentangling - PureGraph Size Comparison"
   ]
  },
  {
   "cell_type": "markdown",
   "metadata": {},
   "source": [
    "Load the necessary packages and modules."
   ]
  },
  {
   "cell_type": "code",
   "execution_count": 1,
   "metadata": {},
   "outputs": [],
   "source": [
    "from pathlib import Path\n",
    "import pandas as pd\n",
    "import numpy as np\n",
    "import seaborn as sns\n",
    "import matplotlib.pyplot as plt\n",
    "from matplotlib.lines import Line2D\n",
    "from scipy.stats import linregress\n",
    "\n",
    "sns.set_theme('paper',font_scale=1.5)\n",
    "sns.set_style('white')\n",
    "\n",
    "from modules.disentangling_contributions import \\\n",
    "    create_outline,interpolate_grid_scipy,plot_interpolated_contour,\\\n",
    "        equation_1_Gd_inv,equation_1_Ga_inv,equation_c1,equation_1_Gd,equation_1_Ga,\\\n",
    "        L_a_sim,L_D_sim"
   ]
  },
  {
   "cell_type": "markdown",
   "metadata": {},
   "source": [
    "## Import Data"
   ]
  },
  {
   "cell_type": "markdown",
   "metadata": {},
   "source": [
    "Import the .csv from (2)"
   ]
  },
  {
   "cell_type": "code",
   "execution_count": 2,
   "metadata": {},
   "outputs": [],
   "source": [
    "data_dir = Path.cwd().joinpath('data')\n",
    "data = pd.read_csv(data_dir.joinpath('input','puregraph_size_comparison_cleaned.csv')).iloc[:,1:]\n",
    "data['ADGc'] = data['Par_DG_ADG'] * 2.3305**4"
   ]
  },
  {
   "cell_type": "markdown",
   "metadata": {},
   "source": [
    "## Disentangling Contributions from 0D and 1D Defects"
   ]
  },
  {
   "cell_type": "code",
   "execution_count": 3,
   "metadata": {},
   "outputs": [],
   "source": [
    "def match_outline(x):\n",
    "    \n",
    "    outline_lD = equation_1_Gd_inv(x+(15.0001-x.min()))\n",
    "    outline_la = equation_1_Ga_inv(x+(15.0001-x.min()))\n",
    "\n",
    "    outline_lD_len = len(outline_lD)\n",
    "    outline_la_len = len(outline_la)\n",
    "    \n",
    "    generic = np.ones(outline_lD_len) * 500\n",
    "    \n",
    "    L_a = np.append(generic,outline_la)\n",
    "    L_D = np.append(outline_lD,generic)\n",
    "    line_type = ['dashed'] * outline_lD_len + ['solid'] * outline_lD_len\n",
    "    \n",
    "    data            = pd.DataFrame({'LA':L_a,'LD':L_D})\n",
    "    data['Gd']      = data['LD'].apply(equation_1_Gd)\n",
    "    data['Ga']      = data['LA'].apply(equation_1_Ga)\n",
    "    data['y']       = data.apply(lambda x: equation_c1(x.LA,x.LD), axis=1)\n",
    "    data['type']    = line_type\n",
    "    \n",
    "    return data\n",
    "\n",
    "def envelope_contour(df):\n",
    "    \n",
    "    xin = df.columns\n",
    "    \n",
    "    outline_match = match_outline(xin)\n",
    "    \n",
    "    dashed_columns = outline_match.loc[outline_match['type'] == 'dashed','y'].values\n",
    "    df.columns = dashed_columns\n",
    "    df = df.apply(lambda x: x[x.index < x.name] ,axis=0)\n",
    "    \n",
    "    solid_columns = outline_match.loc[outline_match['type'] == 'solid','y']\n",
    "    df.columns = solid_columns \n",
    "    df = df.apply(lambda x: x[x.index > x.name] ,axis=0)\n",
    "    \n",
    "    df.columns = xin\n",
    "    \n",
    "    return df\n",
    "\n",
    "def translate_points(x,y,df):\n",
    "    \n",
    "    xr = round(x,2)\n",
    "    yr = round(y,2)\n",
    "        \n",
    "    lookup = np.nan\n",
    "    \n",
    "    if xr in df.columns:\n",
    "        if yr in df.index:\n",
    "            lookup = df.loc[yr,xr]\n",
    "\n",
    "    \n",
    "    return lookup"
   ]
  },
  {
   "cell_type": "code",
   "execution_count": 4,
   "metadata": {},
   "outputs": [],
   "source": [
    "xa, ya, za = interpolate_grid_scipy(L_a_sim,'La')\n",
    "xd, yd, zd = interpolate_grid_scipy(L_D_sim,'Ld')"
   ]
  },
  {
   "cell_type": "code",
   "execution_count": 5,
   "metadata": {},
   "outputs": [],
   "source": [
    "df_La       = pd.DataFrame(za, index = ya, columns=xa)\n",
    "df_La_Env   = envelope_contour(df_La)"
   ]
  },
  {
   "cell_type": "code",
   "execution_count": 6,
   "metadata": {},
   "outputs": [],
   "source": [
    "df_LD       = pd.DataFrame(zd, index = yd, columns=xd)\n",
    "df_LD_Env   = envelope_contour(df_LD)"
   ]
  },
  {
   "cell_type": "code",
   "execution_count": 7,
   "metadata": {},
   "outputs": [],
   "source": [
    "df_LD_Env.columns   = np.round(df_LD_Env.columns,2)\n",
    "df_LD_Env.index     = np.round(df_LD_Env.index,2)\n",
    "df_La_Env.columns   = np.round(df_La_Env.columns,2)\n",
    "df_La_Env.index     = np.round(df_La_Env.index,2)"
   ]
  },
  {
   "cell_type": "code",
   "execution_count": 8,
   "metadata": {},
   "outputs": [],
   "source": [
    "data['La']      = data.apply(lambda g: translate_points(g.Par_G_fwhm,g.ADGc,df_La_Env),axis=1).dropna()\n",
    "data['LD']      = data.apply(lambda g: translate_points(g.Par_G_fwhm,g.ADGc,df_LD_Env),axis=1).dropna()\n",
    "data['sigma']   = 1 / (data['LD']**2) \n",
    "data['La2']     = (data['La']**2)"
   ]
  },
  {
   "cell_type": "code",
   "execution_count": 9,
   "metadata": {},
   "outputs": [
    {
     "data": {
      "text/html": [
       "<div>\n",
       "<style scoped>\n",
       "    .dataframe tbody tr th:only-of-type {\n",
       "        vertical-align: middle;\n",
       "    }\n",
       "\n",
       "    .dataframe tbody tr th {\n",
       "        vertical-align: top;\n",
       "    }\n",
       "\n",
       "    .dataframe thead th {\n",
       "        text-align: right;\n",
       "    }\n",
       "</style>\n",
       "<table border=\"1\" class=\"dataframe\">\n",
       "  <thead>\n",
       "    <tr style=\"text-align: right;\">\n",
       "      <th></th>\n",
       "      <th>material</th>\n",
       "      <th>functionalisation</th>\n",
       "      <th>Par_G_fwhm_mean</th>\n",
       "      <th>Par_G_fwhm_std</th>\n",
       "      <th>ADGc_fwhm_mean</th>\n",
       "      <th>ADGc_fwhm_std</th>\n",
       "      <th>sigma_mean</th>\n",
       "      <th>sigma_std</th>\n",
       "      <th>La2_mean</th>\n",
       "      <th>La2_std</th>\n",
       "    </tr>\n",
       "  </thead>\n",
       "  <tbody>\n",
       "    <tr>\n",
       "      <th>0</th>\n",
       "      <td>PG10</td>\n",
       "      <td>BL</td>\n",
       "      <td>32.146239</td>\n",
       "      <td>3.626069</td>\n",
       "      <td>24.433406</td>\n",
       "      <td>4.475043</td>\n",
       "      <td>0.003687</td>\n",
       "      <td>0.001743</td>\n",
       "      <td>730.729679</td>\n",
       "      <td>273.551936</td>\n",
       "    </tr>\n",
       "    <tr>\n",
       "      <th>1</th>\n",
       "      <td>PG20</td>\n",
       "      <td>BL</td>\n",
       "      <td>28.840044</td>\n",
       "      <td>2.902611</td>\n",
       "      <td>19.390550</td>\n",
       "      <td>5.356395</td>\n",
       "      <td>0.002404</td>\n",
       "      <td>0.001560</td>\n",
       "      <td>1086.347129</td>\n",
       "      <td>676.464019</td>\n",
       "    </tr>\n",
       "    <tr>\n",
       "      <th>2</th>\n",
       "      <td>PG5</td>\n",
       "      <td>BL</td>\n",
       "      <td>37.807192</td>\n",
       "      <td>5.227234</td>\n",
       "      <td>27.280173</td>\n",
       "      <td>4.023186</td>\n",
       "      <td>0.004427</td>\n",
       "      <td>0.001861</td>\n",
       "      <td>500.148937</td>\n",
       "      <td>189.184401</td>\n",
       "    </tr>\n",
       "  </tbody>\n",
       "</table>\n",
       "</div>"
      ],
      "text/plain": [
       "  material functionalisation  Par_G_fwhm_mean  Par_G_fwhm_std  ADGc_fwhm_mean  \\\n",
       "0     PG10                BL        32.146239        3.626069       24.433406   \n",
       "1     PG20                BL        28.840044        2.902611       19.390550   \n",
       "2      PG5                BL        37.807192        5.227234       27.280173   \n",
       "\n",
       "   ADGc_fwhm_std  sigma_mean  sigma_std     La2_mean     La2_std  \n",
       "0       4.475043    0.003687   0.001743   730.729679  273.551936  \n",
       "1       5.356395    0.002404   0.001560  1086.347129  676.464019  \n",
       "2       4.023186    0.004427   0.001861   500.148937  189.184401  "
      ]
     },
     "execution_count": 9,
     "metadata": {},
     "output_type": "execute_result"
    }
   ],
   "source": [
    "data_m = data.groupby(['material','functionalisation'])[['Par_G_fwhm','ADGc','sigma','La2']].agg([np.mean,np.std]).reset_index(drop=False)\n",
    "data_m.columns = data_m.columns.get_level_values(0)\n",
    "data_m.columns = [\n",
    "    'material',\n",
    "    'functionalisation',\n",
    "    'Par_G_fwhm_mean',\n",
    "    'Par_G_fwhm_std',\n",
    "    'ADGc_fwhm_mean',\n",
    "    'ADGc_fwhm_std',\n",
    "    'sigma_mean',\n",
    "    'sigma_std',\n",
    "    'La2_mean',\n",
    "    'La2_std',\n",
    "    ]\n",
    "data_m"
   ]
  },
  {
   "cell_type": "markdown",
   "metadata": {},
   "source": [
    "## Plot"
   ]
  },
  {
   "cell_type": "code",
   "execution_count": 10,
   "metadata": {},
   "outputs": [
    {
     "data": {
      "image/png": "[encoded data removed]",
      "text/plain": [
       "<Figure size 270x360 with 1 Axes>"
      ]
     },
     "metadata": {},
     "output_type": "display_data"
    }
   ],
   "source": [
    "graph = sns.FacetGrid(\n",
    "    data=data_m,\n",
    "    hue= 'material',\n",
    "    hue_order = ['PG5','PG10','PG20'],\n",
    "    height = 5,\n",
    "    aspect = 3/4,\n",
    "    legend_out=False,\n",
    ")\n",
    "\n",
    "graph.map_dataframe(\n",
    "    plt.errorbar,\n",
    "    x = 'Par_G_fwhm_mean',\n",
    "    y = 'ADGc_fwhm_mean',\n",
    "    yerr = 'ADGc_fwhm_std',\n",
    "    xerr = 'Par_G_fwhm_std' ,\n",
    "    \n",
    ")\n",
    "\n",
    "graph.map_dataframe(\n",
    "    plt.scatter,\n",
    "    x = 'Par_G_fwhm_mean',\n",
    "    y = 'ADGc_fwhm_mean',\n",
    ")\n",
    "\n",
    "outline_data = create_outline()\n",
    "\n",
    "graph.set(xlim=(10,85),ylim=(0,130))\n",
    "\n",
    "plt.grid(False)\n",
    "sns.lineplot(data=outline_data.loc[outline_data['type'] == 'dashed'],x='Gd',y='y',ls='--',ax=graph.axes.flatten()[0],color='k',lw=2)\n",
    "sns.lineplot(data=outline_data.loc[outline_data['type'] == 'solid'], x='Ga',y='y',ax=graph.axes.flatten()[0],color='k',lw=2)\n",
    "\n",
    "plt.xlabel(r'$\\Gamma _G$ $(cm^{-1})$')\n",
    "plt.ylabel(r'$(A_D/A_G) \\times E_L^4$ $(eV^4)$')\n",
    "plt.title('(a)',fontweight='bold')\n",
    "plt.legend('')\n",
    "\n",
    "custom_lines = [\n",
    "    Line2D([0], [0], color='tab:blue', lw=0,label='PG5',marker='o'),\n",
    "    Line2D([0], [0], color='tab:orange', lw=0,label = 'PG10',marker='o'),\n",
    "    Line2D([0], [0], color='tab:green', lw=0,label = 'PG20',marker='o'),\n",
    "                ]\n",
    "\n",
    "plt.legend(handles= custom_lines,frameon=False)\n",
    "plt.tight_layout()\n",
    "plt.savefig(Path.cwd().joinpath('figures','Figure 5 (a).png'),dpi=300)\n",
    "\n",
    "plt.show()"
   ]
  },
  {
   "cell_type": "code",
   "execution_count": 11,
   "metadata": {},
   "outputs": [
    {
     "data": {
      "image/png": "[encoded data removed]",
      "text/plain": [
       "<Figure size 270x360 with 1 Axes>"
      ]
     },
     "metadata": {},
     "output_type": "display_data"
    }
   ],
   "source": [
    "graph = sns.FacetGrid(\n",
    "    data=data_m,\n",
    "    hue= 'material',\n",
    "    hue_order = ['PG5','PG10','PG20'],\n",
    "    height = 5,\n",
    "    aspect = 3/4,\n",
    "    legend_out=False,\n",
    ")\n",
    "\n",
    "graph.map_dataframe(\n",
    "    plt.errorbar,\n",
    "    x = 'La2_mean',\n",
    "    y = 'sigma_mean',\n",
    "    yerr = 'sigma_std',\n",
    "    xerr = 'La2_std' ,\n",
    ")\n",
    "\n",
    "graph.map_dataframe(\n",
    "    plt.scatter,\n",
    "    x = 'La2_mean',\n",
    "    y = 'sigma_mean',\n",
    ")\n",
    "\n",
    "plt.xlabel(r'Crystallite Area (nm$^2$)')\n",
    "plt.ylabel(r'Defect Density (nm$^{-2}$)')\n",
    "plt.title('(b)',fontweight='bold')\n",
    "\n",
    "custom_lines = [\n",
    "    Line2D([0], [0], color='tab:blue', lw=0,label='PG5',marker='o'),\n",
    "    Line2D([0], [0], color='tab:orange', lw=0,label = 'PG10',marker='o'),\n",
    "    Line2D([0], [0], color='tab:green', lw=0,label = 'PG20',marker='o'),\n",
    "                ]\n",
    "\n",
    "plt.legend(handles= custom_lines,frameon=False)\n",
    "plt.grid(False)\n",
    "plt.tight_layout()\n",
    "\n",
    "plt.savefig(Path.cwd().joinpath('figures','Figure 5 (b).png'),dpi=300)\n",
    "plt.show()\n"
   ]
  },
  {
   "cell_type": "code",
   "execution_count": 12,
   "metadata": {},
   "outputs": [
    {
     "data": {
      "image/png": "[encoded data removed]",
      "text/plain": [
       "<Figure size 270x360 with 1 Axes>"
      ]
     },
     "metadata": {},
     "output_type": "display_data"
    }
   ],
   "source": [
    "data_m['D50'] = pd.Series([10.2,18.3,6.22])\n",
    "data_m['D50_std'] = pd.Series([1.459132,1.459132,1.155052])\n",
    "\n",
    "graph = sns.FacetGrid(\n",
    "    data=data_m,\n",
    "    hue= 'material',\n",
    "    hue_order = ['PG5','PG10','PG20','PG50'],\n",
    "    height = 5,\n",
    "    aspect = 3/4,\n",
    "    legend_out=False,\n",
    ")\n",
    "\n",
    "y = data_m['D50']\n",
    "x = data_m['La2_mean']\n",
    "\n",
    "slope, intercept, r_value, p_value, std_err = linregress(x, y)\n",
    "\n",
    "def plot_error(*args,**kwargs):\n",
    "    data = kwargs.pop('data')\n",
    "    plt.errorbar(\n",
    "        y = data['D50'],\n",
    "        x = data['La2_mean'],\n",
    "        yerr  = data['D50_std'],\n",
    "        xerr = data['La2_std'],\n",
    "        **kwargs\n",
    "    )\n",
    "\n",
    "    \n",
    "graph.map_dataframe(\n",
    "    sns.scatterplot,\n",
    "    'La2_mean',\n",
    "    'D50',\n",
    "    s=50,\n",
    ")\n",
    "\n",
    "plt.plot(np.arange(300,1300),slope*np.arange(300,1300)+intercept,\n",
    "         c = 'k',\n",
    "         ls = '--',\n",
    "         zorder=0)\n",
    "\n",
    "custom_lines = [\n",
    "    Line2D([0], [0], color='tab:blue', lw=0,label='PG5',marker='o'),\n",
    "    Line2D([0], [0], color='tab:orange', lw=0,label = 'PG10',marker='o'),\n",
    "    Line2D([0], [0], color='tab:green', lw=0,label = 'PG20',marker='o'),\n",
    "                ]\n",
    "\n",
    "plt.legend(handles= custom_lines,frameon=False, loc='upper left')\n",
    "\n",
    "plt.annotate(\n",
    "    f'y = {slope:.2f}$x$ - {-1*intercept:.0f} \\n R$^2$ = {r_value**2:.2f}',\n",
    "    (800,5),\n",
    "    fontstyle='italic',\n",
    "    fontsize=12\n",
    ")\n",
    "\n",
    "plt.xlabel(r'Crystallite Area (nm$^2$)')\n",
    "plt.ylabel(r'D$_{50}$ ($\\mu$m)')\n",
    "plt.title('(c)', fontweight='bold')\n",
    "\n",
    "plt.tight_layout()\n",
    "plt.savefig(Path.cwd().joinpath('figures','Figure 5 (c).png'),dpi=300)\n",
    "plt.show()"
   ]
  },
  {
   "cell_type": "markdown",
   "metadata": {},
   "source": [
    "## Export Data"
   ]
  },
  {
   "cell_type": "code",
   "execution_count": 13,
   "metadata": {},
   "outputs": [],
   "source": [
    "data.to_csv(\n",
    "    Path.cwd().joinpath(\n",
    "        'data',\n",
    "        'output',\n",
    "        'puregraph_size_comparison_disentangled.csv')\n",
    ")"
   ]
  }
 ],
 "metadata": {
  "kernelspec": {
   "display_name": "Python 3.8.13 ('py380')",
   "language": "python",
   "name": "python3"
  },
  "language_info": {
   "codemirror_mode": {
    "name": "ipython",
    "version": 3
   },
   "file_extension": ".py",
   "mimetype": "text/x-python",
   "name": "python",
   "nbconvert_exporter": "python",
   "pygments_lexer": "ipython3",
   "version": "3.8.13"
  },
  "orig_nbformat": 4,
  "vscode": {
   "interpreter": {
    "hash": "bc1a0c2fd4df46d760c85ae807fd047be621751cf23fb0504691f571b5da056d"
   }
  }
 },
 "nbformat": 4,
 "nbformat_minor": 2
}
