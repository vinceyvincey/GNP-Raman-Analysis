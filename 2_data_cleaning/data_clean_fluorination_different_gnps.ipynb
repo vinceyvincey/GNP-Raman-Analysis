{
 "cells": [
  {
   "cell_type": "markdown",
   "metadata": {},
   "source": [
    "# Data Cleaning Notebook - Fluorinating Different GNPs"
   ]
  },
  {
   "cell_type": "markdown",
   "metadata": {},
   "source": [
    "Load the necessary packages and modules."
   ]
  },
  {
   "cell_type": "code",
   "execution_count": 40,
   "metadata": {},
   "outputs": [],
   "source": [
    "from pathlib import Path\n",
    "import numpy as np\n",
    "import pandas as pd\n",
    "import matplotlib.pyplot as plt\n",
    "import seaborn as sns\n",
    "from matplotlib.lines import Line2D\n",
    "\n",
    "sns.set_theme('paper',font_scale=1.5)\n",
    "sns.set_style('white')\n",
    "\n",
    "from modules.data_cleaning import clean_outliers, sample_spectra\n"
   ]
  },
  {
   "cell_type": "markdown",
   "metadata": {},
   "source": [
    "## Import Data"
   ]
  },
  {
   "cell_type": "markdown",
   "metadata": {},
   "source": [
    "Import the pickled data from (1)."
   ]
  },
  {
   "cell_type": "code",
   "execution_count": 41,
   "metadata": {},
   "outputs": [],
   "source": [
    "data = pd.read_pickle(Path.cwd().joinpath('data','input','fluorination_different_gnps.pkl'))\n",
    "data = data.fillna(0)\n",
    "data = data.reset_index(drop=True) "
   ]
  },
  {
   "cell_type": "markdown",
   "metadata": {},
   "source": [
    "Extract details from the filename and peak fittings."
   ]
  },
  {
   "cell_type": "code",
   "execution_count": 42,
   "metadata": {},
   "outputs": [],
   "source": [
    "data['peaks']               = data.model.str.extractall(r\"prefix=.([a-zA-Z0-9_]*)_\").groupby(level=0)[0].apply(list)\n",
    "data['material']            = data['file'].str.extract(r'^([a-zA-Z0-9-]*)_')\n",
    "data['functionalisation']   = data['file'].str.extract(r'^[a-zA-Z0-9-]*_([a-zA-Z0-9]*)_')\n",
    "data['map']                 = data['file'].str.extract(r'([0-9]).pkl').astype(int)"
   ]
  },
  {
   "cell_type": "markdown",
   "metadata": {},
   "source": [
    "Find peak ratios."
   ]
  },
  {
   "cell_type": "code",
   "execution_count": 43,
   "metadata": {},
   "outputs": [],
   "source": [
    "data[\"Par_DG_IDG\"]  = data[\"Par_D_height\"]      / data[\"Par_G_height\"]\n",
    "data[\"Par_DG_ADG\"]  = data[\"Par_D_amplitude\"]   / data[\"Par_G_amplitude\"]\n",
    "\n",
    "data[\"Par_D2G_IDG\"] = data[\"Par_D2_height\"]     / data[\"Par_G_height\"]\n",
    "data[\"Par_D2G_ADG\"] = data[\"Par_D2_amplitude\"]  / data[\"Par_G_amplitude\"]\n",
    "\n",
    "data[\"Par_D2G_FDG\"] = data[\"Par_D2_fwhm\"]     / data[\"Par_G_fwhm\"]\n",
    "data[\"Par_DG_FDG\"]  = data[\"Par_D_fwhm\"]      / data[\"Par_G_fwhm\"]"
   ]
  },
  {
   "cell_type": "markdown",
   "metadata": {},
   "source": [
    "Read in x-axis data."
   ]
  },
  {
   "cell_type": "code",
   "execution_count": 44,
   "metadata": {},
   "outputs": [],
   "source": [
    "x = pd.read_csv(Path.cwd().joinpath('data','input','generic_x_fluorination.csv'), header=None)\n",
    "x = x.to_numpy().reshape(len(x))"
   ]
  },
  {
   "cell_type": "markdown",
   "metadata": {},
   "source": [
    "## Clean Data"
   ]
  },
  {
   "cell_type": "markdown",
   "metadata": {},
   "source": [
    "Filter the dataframe to remove peak fitting issues. \n",
    "- D peak overfit\n",
    "- D' peak replaces G peak"
   ]
  },
  {
   "cell_type": "code",
   "execution_count": 45,
   "metadata": {},
   "outputs": [
    {
     "data": {
      "text/plain": [
       "material  functionalisation\n",
       "C750      BL                   1793\n",
       "          CF4                  1774\n",
       "EC-GNP    BL                   1981\n",
       "          CF4                  1984\n",
       "HP-GNP    BL                   2030\n",
       "          CF4                  2029\n",
       "PG10      BL                   1954\n",
       "          CF4                  1969\n",
       "Name: spectrum, dtype: int64"
      ]
     },
     "execution_count": 45,
     "metadata": {},
     "output_type": "execute_result"
    }
   ],
   "source": [
    "data_clean_1 = data.loc[data['Par_D_fwhm'].astype(float)< 130]\n",
    "data_clean_1 = data_clean_1.loc[data_clean_1['Par_Dd_amplitude']<data_clean_1['Par_G_amplitude']]\n",
    "\n",
    "data_clean_1.groupby(['material','functionalisation']).count()['spectrum']"
   ]
  },
  {
   "cell_type": "markdown",
   "metadata": {},
   "source": [
    "Remove outliers 1.5x over/under the IQR."
   ]
  },
  {
   "cell_type": "code",
   "execution_count": 46,
   "metadata": {},
   "outputs": [
    {
     "data": {
      "text/plain": [
       "material  functionalisation\n",
       "C750      BL                   1289\n",
       "          CF4                  1273\n",
       "EC-GNP    BL                   1309\n",
       "          CF4                  1611\n",
       "HP-GNP    BL                   1623\n",
       "          CF4                  1461\n",
       "PG10      BL                   1290\n",
       "          CF4                  1171\n",
       "Name: spectrum, dtype: int64"
      ]
     },
     "execution_count": 46,
     "metadata": {},
     "output_type": "execute_result"
    }
   ],
   "source": [
    "data_clean_2 = clean_outliers(\n",
    "    df_in               = data_clean_1,\n",
    "    group_columns       =['material','functionalisation'],\n",
    "    fit_features        = [\n",
    "        'Par_DG_IDG',\n",
    "        'Par_DG_ADG',\n",
    "        'Par_D2G_IDG',\n",
    "        'Par_D2G_ADG',\n",
    "        'Par_DG_FDG',\n",
    "        'Par_D2G_FDG',\n",
    "        'Par_G_center',\n",
    "        'Par_D2_center',\n",
    "        'Par_D_center',\n",
    "        ],\n",
    "    extent_multiplier   = 1.5)\n",
    "\n",
    "data_clean_2.groupby(['material','functionalisation']).count()['spectrum']"
   ]
  },
  {
   "cell_type": "markdown",
   "metadata": {},
   "source": [
    "Make final number of spectra consistent (1000)"
   ]
  },
  {
   "cell_type": "code",
   "execution_count": 47,
   "metadata": {},
   "outputs": [
    {
     "data": {
      "text/plain": [
       "material  functionalisation\n",
       "C750      BL                   1000\n",
       "          CF4                  1000\n",
       "EC-GNP    BL                   1000\n",
       "          CF4                  1000\n",
       "HP-GNP    BL                   1000\n",
       "          CF4                  1000\n",
       "PG10      BL                   1000\n",
       "          CF4                  1000\n",
       "Name: spectrum, dtype: int64"
      ]
     },
     "execution_count": 47,
     "metadata": {},
     "output_type": "execute_result"
    }
   ],
   "source": [
    "data_clean_2_sample = sample_spectra(\n",
    "    data_clean_2,\n",
    "    ['material','functionalisation'],\n",
    "    1000\n",
    ")\n",
    "\n",
    "data_clean_2_sample.groupby(['material','functionalisation']).count()['spectrum']"
   ]
  },
  {
   "cell_type": "markdown",
   "metadata": {},
   "source": [
    "## Plot"
   ]
  },
  {
   "cell_type": "code",
   "execution_count": 48,
   "metadata": {},
   "outputs": [],
   "source": [
    "def average_group(group_in):\n",
    "    \n",
    "    item_sum = np.zeros(1011)\n",
    "    k= 0 \n",
    "    \n",
    "    for item in group_in['data']:\n",
    "        \n",
    "        item_sum = item + item_sum\n",
    "        k = k +1\n",
    "    \n",
    "    avg_spectrum = item_sum/k\n",
    "    \n",
    "    return avg_spectrum\n",
    "        \n",
    "avg_spectra = data_clean_2_sample.groupby(['material','functionalisation']).apply(average_group).reset_index()\n",
    "avg_spectra.columns = ['material','functionalisation','spectra']\n",
    "\n",
    "\n",
    "def expand_spectra(group_in):\n",
    "    df = pd.DataFrame({\n",
    "        'intensity': group_in['spectra'].iloc[0],\n",
    "        'x':x,\n",
    "        })\n",
    "    \n",
    "    return df\n",
    "\n",
    "avg_spectra2 = avg_spectra.groupby(['material','functionalisation']).apply(expand_spectra).reset_index(drop=False)\n",
    "avg_spectra2 = avg_spectra2[['material','functionalisation','intensity','x']]\n",
    "\n",
    "def scale_spectra(group_in):\n",
    "    \n",
    "    group_in['intensity_scaled'] = group_in['intensity']/group_in['intensity'].max()\n",
    "    return group_in\n",
    "\n",
    "avg_spectra3 = avg_spectra2.groupby(['material','functionalisation']).apply(scale_spectra).reset_index(drop=False)\n",
    "\n",
    "offset_dict ={'C750':1,\n",
    " 'PG10':2,\n",
    " 'EC-GNP':3,\n",
    " 'HP-GNP':4}\n",
    "\n",
    "def offset_spectra(group_in):\n",
    "    group_in['intensity_offset'] = group_in['intensity_scaled'] + offset_dict[group_in['material'].iloc[0]]\n",
    "    return group_in\n",
    "\n",
    "avg_spectra4 = avg_spectra3.groupby(['material','functionalisation']).apply(offset_spectra).reset_index(drop=False)\n"
   ]
  },
  {
   "cell_type": "code",
   "execution_count": 49,
   "metadata": {},
   "outputs": [
    {
     "data": {
      "image/png": "[encoded data removed]",
      "text/plain": [
       "<Figure size 270x360 with 1 Axes>"
      ]
     },
     "metadata": {},
     "output_type": "display_data"
    }
   ],
   "source": [
    "graph = sns.FacetGrid(\n",
    "    data=avg_spectra4.loc[(avg_spectra4['x']>1000) & (avg_spectra4['x']<3200)],\n",
    "    hue = 'material',\n",
    "    hue_order = ['C750','PG10','EC-GNP','HP-GNP'],\n",
    "    height = 5,\n",
    "    aspect = 3/4\n",
    ")\n",
    "\n",
    "def graph_lineplot(*args, **kwargs):\n",
    "    \n",
    "    data = kwargs.pop('data')\n",
    "    data_in = data.loc[data['functionalisation']=='BL']\n",
    "    \n",
    "    if args[0] == True:\n",
    "        kwargs['color'] = 'tab:purple'\n",
    "        data_in = data.loc[data['functionalisation']=='CF4']\n",
    "        data_in['intensity_offset'] = data_in['intensity_offset'] + 0.5\n",
    "    \n",
    "    sns.lineplot(\n",
    "        data = data_in,\n",
    "        x = 'x',\n",
    "        y = 'intensity_offset',\n",
    "        **kwargs,\n",
    "        lw=2,\n",
    "    )\n",
    "\n",
    "\n",
    "graph.map_dataframe(graph_lineplot, False)\n",
    "\n",
    "custom_lines = [\n",
    "    \n",
    "    \n",
    "    Line2D([0], [0], color='tab:red', lw=2,label='HP-GNP'),\n",
    "    Line2D([0], [0], color='tab:green', lw=2,label = 'EC-GNP'),\n",
    "    Line2D([0], [0], color='tab:orange', lw=2,label = 'PG10'),\n",
    "    Line2D([0], [0], color='tab:blue', lw=2,label = 'C750'),\n",
    "                ]\n",
    "\n",
    "plt.legend(handles= custom_lines,frameon=False,loc='upper right')\n",
    "plt.xlabel(r'Raman Shift (cm$^{-1}$)')\n",
    "plt.ylabel(r'Intensity (a.u.)')\n",
    "plt.title('(a)',fontweight='bold')\n",
    "plt.yticks([])\n",
    "\n",
    "plt.ylim(0.5,6.2)\n",
    "\n",
    "\n",
    "plt.tight_layout()\n",
    "plt.savefig(Path.cwd().joinpath('figures','Figure 6 (a).png'),dpi=300)\n",
    "plt.show()"
   ]
  },
  {
   "cell_type": "markdown",
   "metadata": {},
   "source": [
    "## Export Data"
   ]
  },
  {
   "cell_type": "code",
   "execution_count": 50,
   "metadata": {},
   "outputs": [],
   "source": [
    "wide_data_export = data_clean_2_sample[[\n",
    "    'material','map','functionalisation','spectrum',  \n",
    "    'Par_G_height','Par_D_height','Par_D2_height',\n",
    "    'Par_G_center','Par_G_fwhm','Par_G_amplitude',\n",
    "    'Par_D_center','Par_D_fwhm','Par_D_amplitude',\n",
    "    'Par_D2_center','Par_D2_fwhm','Par_D2_amplitude',\n",
    "    'Par_DG_IDG','Par_DG_ADG',\n",
    "    'Par_D2G_IDG','Par_D2G_ADG',\n",
    "]].reset_index(drop=True)"
   ]
  },
  {
   "cell_type": "code",
   "execution_count": 51,
   "metadata": {},
   "outputs": [],
   "source": [
    "wide_data_export.to_csv(\n",
    "    Path.cwd().joinpath(\n",
    "        'data',\n",
    "        'output',\n",
    "        'fluorination_different_gnps_cleaned.csv')\n",
    ")"
   ]
  }
 ],
 "metadata": {
  "kernelspec": {
   "display_name": "Python 3.8.13 ('py380')",
   "language": "python",
   "name": "python3"
  },
  "language_info": {
   "codemirror_mode": {
    "name": "ipython",
    "version": 3
   },
   "file_extension": ".py",
   "mimetype": "text/x-python",
   "name": "python",
   "nbconvert_exporter": "python",
   "pygments_lexer": "ipython3",
   "version": "3.8.13"
  },
  "orig_nbformat": 4,
  "vscode": {
   "interpreter": {
    "hash": "bc1a0c2fd4df46d760c85ae807fd047be621751cf23fb0504691f571b5da056d"
   }
  }
 },
 "nbformat": 4,
 "nbformat_minor": 2
}
